{
  "cells": [
    {
      "cell_type": "code",
      "execution_count": null,
      "metadata": {
        "id": "boNkeeoZO_iI"
      },
      "outputs": [],
      "source": [
        "import torch"
      ]
    },
    {
      "cell_type": "code",
      "execution_count": null,
      "metadata": {
        "id": "fNJEUOUcRQKI"
      },
      "outputs": [],
      "source": [
        "import torch\n",
        "import torch.nn as nn\n",
        "import torch.optim as optim\n",
        "import pandas as pd\n",
        "from sklearn.model_selection import train_test_split\n",
        "from sklearn.preprocessing import StandardScaler\n",
        "import matplotlib.pyplot as plt\n"
      ]
    },
    {
      "cell_type": "code",
      "execution_count": null,
      "metadata": {
        "colab": {
          "base_uri": "https://localhost:8080/"
        },
        "id": "n5uGGWkut-tO",
        "outputId": "8f7dfbaf-064f-4452-8030-8c03083ca093"
      },
      "outputs": [
        {
          "output_type": "stream",
          "name": "stdout",
          "text": [
            "Mounted at /content/drive\n"
          ]
        }
      ],
      "source": [
        "from google.colab import drive\n",
        "drive.mount('/content/drive')"
      ]
    },
    {
      "cell_type": "markdown",
      "metadata": {
        "id": "Bmnm5vKey0Yv"
      },
      "source": [
        "### **Set up the dataset**"
      ]
    },
    {
      "cell_type": "markdown",
      "source": [
        "**If the data has just come out of the SUMO simulation, we need to accumulate the warning according to vehicle and distance travelled.**\n",
        "\n",
        "Run the following code to get ourput_*.csv"
      ],
      "metadata": {
        "id": "fWKAF8YY9L5r"
      }
    },
    {
      "cell_type": "markdown",
      "source": [
        "<additional xmlns:xsi=\"http://www.w3.org/2001/XMLSchema-instance\" xsi:noNamespaceSchemaLocation=\"http://sumo.dlr.de/xsd/additional_file.xsd\">\n",
        "   \n",
        "    <vType id=\"Dangerous\" minGap=\"1.00\" maxSpeed=\"20.00\" color=\"red\" accel=\"4\" decel=\"3\" emergencyDecel=\"10\" stepping=\"0.5\" apparentDecel=\"3\" tau=\"0.70\" speedFactor=\"1.2\" carFollowModel= \"IDM\"/>\n",
        "    <vType id=\"Normal\" minGap=\"2.5\" maxSpeed=\"14.00\" color=\"yellow\" accel=\"2\" decel=\"3\" emergencyDecel=\"10\" apparentDecel=\"3\" stepping=\"0.25\" tau=\"2.00\" speedFactor=\"1.2\" carFollowModel= \"IDM\"/>\n",
        "    <vType id=\"Slow\" minGap=\"2.50\" maxSpeed=\"12.00\" desiredMaxSpeed=\"10.00\" color=\"blue\" accel=\"1\" decel=\"3\" emergencyDecel=\"10\" stepping=\"0.25\" speedFactor=\"0.9\" tau = \"3.00\" carFollowModel= \"IDM\"/>\n",
        "    \n",
        "</additional>"
      ],
      "metadata": {
        "id": "xD-W4CRf-rjF"
      }
    },
    {
      "cell_type": "code",
      "source": [
        "import pandas as pd\n",
        "import numpy as np\n",
        "\n",
        "#This code groups the DataFrame by 'VehicleID' and iterates through each group separately, calculating the cumulative sum for each group.\n",
        "def calculate_cumulative_total_per_vehicle(df):\n",
        "     # Group by 'VehicleID' and iterate through groups\n",
        "    for _, group_df in df.groupby('VehicleID'):\n",
        "        cumulative_sum = 0\n",
        "\n",
        "        for index, row in group_df.iterrows():\n",
        "            cumulative_sum += row['Total']\n",
        "            df.at[index, 'Total'] = cumulative_sum\n",
        "\n",
        "    return df\n",
        "\n",
        "\n",
        "\n",
        "def calculate_cumulative_total_per_vehicle(df, warning_features):\n",
        "    result_df = df.copy()\n",
        "\n",
        "    for warning in warning_features:\n",
        "        # Group by 'VehicleID' and iterate through groups\n",
        "        for _, group_df in df.groupby('VehicleID'):\n",
        "            # Sort the group by 'Distance_driven' in descending order\n",
        "            #group_df = group_df.sort_values(by='Distance_driven', ascending=False)\n",
        "\n",
        "\n",
        "            # Calculate cumulative sum for the warning feature\n",
        "            cumulative_sum = group_df[warning].cumsum()\n",
        "\n",
        "            # Update the corresponding column in the result DataFrame\n",
        "            result_df.loc[group_df.index, warning] = cumulative_sum\n",
        "\n",
        "    return result_df\n"
      ],
      "metadata": {
        "id": "UahAOOC76OOa"
      },
      "execution_count": null,
      "outputs": []
    },
    {
      "cell_type": "code",
      "execution_count": null,
      "metadata": {
        "colab": {
          "base_uri": "https://localhost:8080/",
          "height": 390
        },
        "id": "h_aABxrjQ3pj",
        "outputId": "26d423b7-93b4-40f4-b326-a45846c736f8"
      },
      "outputs": [
        {
          "output_type": "error",
          "ename": "KeyboardInterrupt",
          "evalue": "",
          "traceback": [
            "\u001b[0;31m---------------------------------------------------------------------------\u001b[0m",
            "\u001b[0;31mKeyboardInterrupt\u001b[0m                         Traceback (most recent call last)",
            "\u001b[0;32m<ipython-input-6-333bc8428020>\u001b[0m in \u001b[0;36m<cell line: 8>\u001b[0;34m()\u001b[0m\n\u001b[1;32m      6\u001b[0m \u001b[0;34m\u001b[0m\u001b[0m\n\u001b[1;32m      7\u001b[0m \u001b[0mdf_800V_Warning\u001b[0m \u001b[0;34m=\u001b[0m \u001b[0mpd\u001b[0m\u001b[0;34m.\u001b[0m\u001b[0mread_csv\u001b[0m\u001b[0;34m(\u001b[0m\u001b[0mdataset_800V_Warning\u001b[0m\u001b[0;34m)\u001b[0m \u001b[0;31m## df\u001b[0m\u001b[0;34m\u001b[0m\u001b[0;34m\u001b[0m\u001b[0m\n\u001b[0;32m----> 8\u001b[0;31m \u001b[0mdf_800V_inVehicl\u001b[0m \u001b[0;34m=\u001b[0m \u001b[0mpd\u001b[0m\u001b[0;34m.\u001b[0m\u001b[0mread_csv\u001b[0m\u001b[0;34m(\u001b[0m\u001b[0mdataset_800V_inVehicl\u001b[0m\u001b[0;34m)\u001b[0m \u001b[0;31m## df1\u001b[0m\u001b[0;34m\u001b[0m\u001b[0;34m\u001b[0m\u001b[0m\n\u001b[0m\u001b[1;32m      9\u001b[0m \u001b[0;34m\u001b[0m\u001b[0m\n\u001b[1;32m     10\u001b[0m \u001b[0;31m#compute the total warning\u001b[0m\u001b[0;34m\u001b[0m\u001b[0;34m\u001b[0m\u001b[0m\n",
            "\u001b[0;32m/usr/local/lib/python3.10/dist-packages/pandas/util/_decorators.py\u001b[0m in \u001b[0;36mwrapper\u001b[0;34m(*args, **kwargs)\u001b[0m\n\u001b[1;32m    209\u001b[0m                 \u001b[0;32melse\u001b[0m\u001b[0;34m:\u001b[0m\u001b[0;34m\u001b[0m\u001b[0;34m\u001b[0m\u001b[0m\n\u001b[1;32m    210\u001b[0m                     \u001b[0mkwargs\u001b[0m\u001b[0;34m[\u001b[0m\u001b[0mnew_arg_name\u001b[0m\u001b[0;34m]\u001b[0m \u001b[0;34m=\u001b[0m \u001b[0mnew_arg_value\u001b[0m\u001b[0;34m\u001b[0m\u001b[0;34m\u001b[0m\u001b[0m\n\u001b[0;32m--> 211\u001b[0;31m             \u001b[0;32mreturn\u001b[0m \u001b[0mfunc\u001b[0m\u001b[0;34m(\u001b[0m\u001b[0;34m*\u001b[0m\u001b[0margs\u001b[0m\u001b[0;34m,\u001b[0m \u001b[0;34m**\u001b[0m\u001b[0mkwargs\u001b[0m\u001b[0;34m)\u001b[0m\u001b[0;34m\u001b[0m\u001b[0;34m\u001b[0m\u001b[0m\n\u001b[0m\u001b[1;32m    212\u001b[0m \u001b[0;34m\u001b[0m\u001b[0m\n\u001b[1;32m    213\u001b[0m         \u001b[0;32mreturn\u001b[0m \u001b[0mcast\u001b[0m\u001b[0;34m(\u001b[0m\u001b[0mF\u001b[0m\u001b[0;34m,\u001b[0m \u001b[0mwrapper\u001b[0m\u001b[0;34m)\u001b[0m\u001b[0;34m\u001b[0m\u001b[0;34m\u001b[0m\u001b[0m\n",
            "\u001b[0;32m/usr/local/lib/python3.10/dist-packages/pandas/util/_decorators.py\u001b[0m in \u001b[0;36mwrapper\u001b[0;34m(*args, **kwargs)\u001b[0m\n\u001b[1;32m    329\u001b[0m                     \u001b[0mstacklevel\u001b[0m\u001b[0;34m=\u001b[0m\u001b[0mfind_stack_level\u001b[0m\u001b[0;34m(\u001b[0m\u001b[0;34m)\u001b[0m\u001b[0;34m,\u001b[0m\u001b[0;34m\u001b[0m\u001b[0;34m\u001b[0m\u001b[0m\n\u001b[1;32m    330\u001b[0m                 )\n\u001b[0;32m--> 331\u001b[0;31m             \u001b[0;32mreturn\u001b[0m \u001b[0mfunc\u001b[0m\u001b[0;34m(\u001b[0m\u001b[0;34m*\u001b[0m\u001b[0margs\u001b[0m\u001b[0;34m,\u001b[0m \u001b[0;34m**\u001b[0m\u001b[0mkwargs\u001b[0m\u001b[0;34m)\u001b[0m\u001b[0;34m\u001b[0m\u001b[0;34m\u001b[0m\u001b[0m\n\u001b[0m\u001b[1;32m    332\u001b[0m \u001b[0;34m\u001b[0m\u001b[0m\n\u001b[1;32m    333\u001b[0m         \u001b[0;31m# error: \"Callable[[VarArg(Any), KwArg(Any)], Any]\" has no\u001b[0m\u001b[0;34m\u001b[0m\u001b[0;34m\u001b[0m\u001b[0m\n",
            "\u001b[0;32m/usr/local/lib/python3.10/dist-packages/pandas/io/parsers/readers.py\u001b[0m in \u001b[0;36mread_csv\u001b[0;34m(filepath_or_buffer, sep, delimiter, header, names, index_col, usecols, squeeze, prefix, mangle_dupe_cols, dtype, engine, converters, true_values, false_values, skipinitialspace, skiprows, skipfooter, nrows, na_values, keep_default_na, na_filter, verbose, skip_blank_lines, parse_dates, infer_datetime_format, keep_date_col, date_parser, dayfirst, cache_dates, iterator, chunksize, compression, thousands, decimal, lineterminator, quotechar, quoting, doublequote, escapechar, comment, encoding, encoding_errors, dialect, error_bad_lines, warn_bad_lines, on_bad_lines, delim_whitespace, low_memory, memory_map, float_precision, storage_options)\u001b[0m\n\u001b[1;32m    948\u001b[0m     \u001b[0mkwds\u001b[0m\u001b[0;34m.\u001b[0m\u001b[0mupdate\u001b[0m\u001b[0;34m(\u001b[0m\u001b[0mkwds_defaults\u001b[0m\u001b[0;34m)\u001b[0m\u001b[0;34m\u001b[0m\u001b[0;34m\u001b[0m\u001b[0m\n\u001b[1;32m    949\u001b[0m \u001b[0;34m\u001b[0m\u001b[0m\n\u001b[0;32m--> 950\u001b[0;31m     \u001b[0;32mreturn\u001b[0m \u001b[0m_read\u001b[0m\u001b[0;34m(\u001b[0m\u001b[0mfilepath_or_buffer\u001b[0m\u001b[0;34m,\u001b[0m \u001b[0mkwds\u001b[0m\u001b[0;34m)\u001b[0m\u001b[0;34m\u001b[0m\u001b[0;34m\u001b[0m\u001b[0m\n\u001b[0m\u001b[1;32m    951\u001b[0m \u001b[0;34m\u001b[0m\u001b[0m\n\u001b[1;32m    952\u001b[0m \u001b[0;34m\u001b[0m\u001b[0m\n",
            "\u001b[0;32m/usr/local/lib/python3.10/dist-packages/pandas/io/parsers/readers.py\u001b[0m in \u001b[0;36m_read\u001b[0;34m(filepath_or_buffer, kwds)\u001b[0m\n\u001b[1;32m    609\u001b[0m \u001b[0;34m\u001b[0m\u001b[0m\n\u001b[1;32m    610\u001b[0m     \u001b[0;32mwith\u001b[0m \u001b[0mparser\u001b[0m\u001b[0;34m:\u001b[0m\u001b[0;34m\u001b[0m\u001b[0;34m\u001b[0m\u001b[0m\n\u001b[0;32m--> 611\u001b[0;31m         \u001b[0;32mreturn\u001b[0m \u001b[0mparser\u001b[0m\u001b[0;34m.\u001b[0m\u001b[0mread\u001b[0m\u001b[0;34m(\u001b[0m\u001b[0mnrows\u001b[0m\u001b[0;34m)\u001b[0m\u001b[0;34m\u001b[0m\u001b[0;34m\u001b[0m\u001b[0m\n\u001b[0m\u001b[1;32m    612\u001b[0m \u001b[0;34m\u001b[0m\u001b[0m\n\u001b[1;32m    613\u001b[0m \u001b[0;34m\u001b[0m\u001b[0m\n",
            "\u001b[0;32m/usr/local/lib/python3.10/dist-packages/pandas/io/parsers/readers.py\u001b[0m in \u001b[0;36mread\u001b[0;34m(self, nrows)\u001b[0m\n\u001b[1;32m   1776\u001b[0m                     \u001b[0mcolumns\u001b[0m\u001b[0;34m,\u001b[0m\u001b[0;34m\u001b[0m\u001b[0;34m\u001b[0m\u001b[0m\n\u001b[1;32m   1777\u001b[0m                     \u001b[0mcol_dict\u001b[0m\u001b[0;34m,\u001b[0m\u001b[0;34m\u001b[0m\u001b[0;34m\u001b[0m\u001b[0m\n\u001b[0;32m-> 1778\u001b[0;31m                 \u001b[0;34m)\u001b[0m \u001b[0;34m=\u001b[0m \u001b[0mself\u001b[0m\u001b[0;34m.\u001b[0m\u001b[0m_engine\u001b[0m\u001b[0;34m.\u001b[0m\u001b[0mread\u001b[0m\u001b[0;34m(\u001b[0m  \u001b[0;31m# type: ignore[attr-defined]\u001b[0m\u001b[0;34m\u001b[0m\u001b[0;34m\u001b[0m\u001b[0m\n\u001b[0m\u001b[1;32m   1779\u001b[0m                     \u001b[0mnrows\u001b[0m\u001b[0;34m\u001b[0m\u001b[0;34m\u001b[0m\u001b[0m\n\u001b[1;32m   1780\u001b[0m                 )\n",
            "\u001b[0;32m/usr/local/lib/python3.10/dist-packages/pandas/io/parsers/c_parser_wrapper.py\u001b[0m in \u001b[0;36mread\u001b[0;34m(self, nrows)\u001b[0m\n\u001b[1;32m    228\u001b[0m         \u001b[0;32mtry\u001b[0m\u001b[0;34m:\u001b[0m\u001b[0;34m\u001b[0m\u001b[0;34m\u001b[0m\u001b[0m\n\u001b[1;32m    229\u001b[0m             \u001b[0;32mif\u001b[0m \u001b[0mself\u001b[0m\u001b[0;34m.\u001b[0m\u001b[0mlow_memory\u001b[0m\u001b[0;34m:\u001b[0m\u001b[0;34m\u001b[0m\u001b[0;34m\u001b[0m\u001b[0m\n\u001b[0;32m--> 230\u001b[0;31m                 \u001b[0mchunks\u001b[0m \u001b[0;34m=\u001b[0m \u001b[0mself\u001b[0m\u001b[0;34m.\u001b[0m\u001b[0m_reader\u001b[0m\u001b[0;34m.\u001b[0m\u001b[0mread_low_memory\u001b[0m\u001b[0;34m(\u001b[0m\u001b[0mnrows\u001b[0m\u001b[0;34m)\u001b[0m\u001b[0;34m\u001b[0m\u001b[0;34m\u001b[0m\u001b[0m\n\u001b[0m\u001b[1;32m    231\u001b[0m                 \u001b[0;31m# destructive to chunks\u001b[0m\u001b[0;34m\u001b[0m\u001b[0;34m\u001b[0m\u001b[0m\n\u001b[1;32m    232\u001b[0m                 \u001b[0mdata\u001b[0m \u001b[0;34m=\u001b[0m \u001b[0m_concatenate_chunks\u001b[0m\u001b[0;34m(\u001b[0m\u001b[0mchunks\u001b[0m\u001b[0;34m)\u001b[0m\u001b[0;34m\u001b[0m\u001b[0;34m\u001b[0m\u001b[0m\n",
            "\u001b[0;32m/usr/local/lib/python3.10/dist-packages/pandas/_libs/parsers.pyx\u001b[0m in \u001b[0;36mpandas._libs.parsers.TextReader.read_low_memory\u001b[0;34m()\u001b[0m\n",
            "\u001b[0;32m/usr/local/lib/python3.10/dist-packages/pandas/_libs/parsers.pyx\u001b[0m in \u001b[0;36mpandas._libs.parsers.TextReader._read_rows\u001b[0;34m()\u001b[0m\n",
            "\u001b[0;32m/usr/local/lib/python3.10/dist-packages/pandas/_libs/parsers.pyx\u001b[0m in \u001b[0;36mpandas._libs.parsers.TextReader._convert_column_data\u001b[0;34m()\u001b[0m\n",
            "\u001b[0;32m/usr/local/lib/python3.10/dist-packages/pandas/_libs/parsers.pyx\u001b[0m in \u001b[0;36mpandas._libs.parsers.TextReader._convert_tokens\u001b[0;34m()\u001b[0m\n",
            "\u001b[0;32m/usr/local/lib/python3.10/dist-packages/pandas/_libs/parsers.pyx\u001b[0m in \u001b[0;36mpandas._libs.parsers.TextReader._convert_with_dtype\u001b[0;34m()\u001b[0m\n",
            "\u001b[0;32m/usr/local/lib/python3.10/dist-packages/pandas/core/dtypes/common.py\u001b[0m in \u001b[0;36mis_extension_array_dtype\u001b[0;34m(arr_or_dtype)\u001b[0m\n\u001b[1;32m   1431\u001b[0m \u001b[0;34m\u001b[0m\u001b[0m\n\u001b[1;32m   1432\u001b[0m \u001b[0;34m\u001b[0m\u001b[0m\n\u001b[0;32m-> 1433\u001b[0;31m \u001b[0;32mdef\u001b[0m \u001b[0mis_extension_array_dtype\u001b[0m\u001b[0;34m(\u001b[0m\u001b[0marr_or_dtype\u001b[0m\u001b[0;34m)\u001b[0m \u001b[0;34m->\u001b[0m \u001b[0mbool\u001b[0m\u001b[0;34m:\u001b[0m\u001b[0;34m\u001b[0m\u001b[0;34m\u001b[0m\u001b[0m\n\u001b[0m\u001b[1;32m   1434\u001b[0m     \"\"\"\n\u001b[1;32m   1435\u001b[0m     \u001b[0mCheck\u001b[0m \u001b[0;32mif\u001b[0m \u001b[0man\u001b[0m \u001b[0mobject\u001b[0m \u001b[0;32mis\u001b[0m \u001b[0ma\u001b[0m \u001b[0mpandas\u001b[0m \u001b[0mextension\u001b[0m \u001b[0marray\u001b[0m \u001b[0mtype\u001b[0m\u001b[0;34m.\u001b[0m\u001b[0;34m\u001b[0m\u001b[0;34m\u001b[0m\u001b[0m\n",
            "\u001b[0;31mKeyboardInterrupt\u001b[0m: "
          ]
        }
      ],
      "source": [
        "# Example usage\n",
        "\n",
        "dataset_800V_Warning = '/content/drive/MyDrive/Dataset_Driver_Behavior/Sumo_dataset_V1/800V_DS_Separated_worning_V2.csv'\n",
        "dataset_800V_inVehicl= '/content/drive/MyDrive/Dataset_Driver_Behavior/Sumo_dataset_V1/800V_DS_Export_dataframe_V2.csv'\n",
        "\n",
        "\n",
        "df_800V_Warning = pd.read_csv(dataset_800V_Warning) ## df\n",
        "df_800V_inVehicl = pd.read_csv(dataset_800V_inVehicl) ## df1\n",
        "\n",
        "#compute the total warning\n",
        "columns_to_sum = ['Speed_respect', 'secure_dist', 'TTC_respect', 'safe_dist', 'Emergency_Brake']\n",
        "to_Sum_Up = ['Speed_respect', 'secure_dist', 'TTC_respect', 'safe_dist', 'Emergency_Brake', 'Total']\n",
        "df_800V_Warning['Total'] = df_800V_Warning[columns_to_sum].sum(axis=1)\n",
        "df_800V_Warning = calculate_cumulative_total_per_vehicle (df_800V_Warning,to_Sum_Up)\n",
        "df_800V_Warning['Distance_driven']=df_800V_Warning['Distance_driven'].astype(int)\n",
        "\n",
        "\n",
        "df_800V_Warning.to_csv('/content/drive/MyDrive/Dataset_Driver_Behavior/Sumo_dataset_V1/Output_800V_DS_Separated_worning.csv', index=False)\n",
        "\n",
        "\n",
        "\n",
        "dataset_1800V_Warning = '/content/drive/MyDrive/Dataset_Driver_Behavior/Sumo_dataset_V1/1800V_DS_Separated_worning_V1.csv'\n",
        "dataset_1800V_inVehicl = '/content/drive/MyDrive/Dataset_Driver_Behavior/Sumo_dataset_V1/1800V_DS_Export_dataframe_V1.csv'\n",
        "\n",
        "df_1800V_Warning = pd.read_csv(dataset_1800V_Warning)        ## Database2\n",
        "df_1800V_inVehicl = pd.read_csv(dataset_1800V_inVehicl)  ## Database\n",
        "\n",
        "#compute the total warning\n",
        "columns_to_sum = ['Speed_respect', 'secure_dist', 'TTC_respect', 'safe_dist', 'Emergency_Brake']\n",
        "to_Sum_Up = ['Speed_respect', 'secure_dist', 'TTC_respect', 'safe_dist', 'Emergency_Brake', 'Total']\n",
        "df_1800V_Warning['Total'] = df_1800V_Warning[columns_to_sum].sum(axis=1)\n",
        "df_1800V_Warning = calculate_cumulative_total_per_vehicle(df_1800V_Warning,to_Sum_Up )\n",
        "df_1800V_Warning['Distance_driven']=df_1800V_Warning['Distance_driven'].astype(int)\n",
        "\n",
        "df_1800V_Warning.to_csv('/content/drive/MyDrive/Dataset_Driver_Behavior/Sumo_dataset_V1/Output_1800V_DS_Separated_worning.csv', index=False)\n",
        "\n",
        "df= df_1800V_Warning ################################\n",
        "\n",
        "\n",
        "print(df_1800V_inVehicl.shape)\n",
        "print(df_800V_Warning.shape)\n",
        "print(df_800V_Warning)\n",
        "print(df_1800V_inVehicl)"
      ]
    },
    {
      "cell_type": "markdown",
      "source": [
        "**if we earledy accumulate the warning according to vehicle and distance travelled run this code**"
      ],
      "metadata": {
        "id": "mXpqVDko98V7"
      }
    },
    {
      "cell_type": "code",
      "source": [
        "# Example usage\n",
        "\n",
        "dataset_800V_Warning = '/content/drive/MyDrive/Dataset_Driver_Behavior/Sumo_dataset_V1/Output_800V_DS_Separated_worning.csv'\n",
        "dataset_800V_inVehicl= '/content/drive/MyDrive/Dataset_Driver_Behavior/Sumo_dataset_V1/800V_DS_Export_dataframe_V2.csv'\n",
        "df_800V_Warning = pd.read_csv(dataset_800V_Warning) ## df\n",
        "df_800V_inVehicl = pd.read_csv(dataset_800V_inVehicl) ## df1\n",
        "\n",
        "\n",
        "\n",
        "dataset_1800V_Warning = '/content/drive/MyDrive/Dataset_Driver_Behavior/Sumo_dataset_V1/Output_1800V_DS_Separated_worning.csv'\n",
        "dataset_1800V_inVehicl = '/content/drive/MyDrive/Dataset_Driver_Behavior/Sumo_dataset_V1/1800V_DS_Export_dataframe_V1.csv'\n",
        "\n",
        "#df = df.sort_values(by=[Label,'VehicleID','Total'],ascending=False)\n",
        "\n",
        "\n",
        "df_1800V_Warning = pd.read_csv(dataset_1800V_Warning)        ## Database2\n",
        "df_1800V_inVehicl = pd.read_csv(dataset_1800V_inVehicl)  ## Database\n",
        "\n",
        "df= df_1800V_Warning ################################\n",
        "\n",
        "\n",
        "print(df_1800V_Warning.shape)\n",
        "print(df_800V_Warning.shape)\n",
        "print(df_800V_Warning)\n",
        "print(df_1800V_Warning)"
      ],
      "metadata": {
        "id": "nWfzTb1PcRUK",
        "colab": {
          "base_uri": "https://localhost:8080/"
        },
        "outputId": "b3d743de-987a-4939-8e3a-b544b1a1aacb"
      },
      "execution_count": null,
      "outputs": [
        {
          "output_type": "stream",
          "name": "stdout",
          "text": [
            "(2101756, 11)\n",
            "(916601, 11)\n",
            "        Unnamed: 0    Step      Label VehicleID  Distance_driven  \\\n",
            "0                0     1.0     Normal   normal0                0   \n",
            "1                1     2.0     Normal   normal0                1   \n",
            "2                2     3.0     Normal   normal0                5   \n",
            "3                3     4.0  Dangerous     dang0                0   \n",
            "4                4     4.0     Normal   normal0               11   \n",
            "...            ...     ...        ...       ...              ...   \n",
            "916596      916596  4019.0       Slow   slow733             7299   \n",
            "916597      916597  4020.0       Slow   slow733             7308   \n",
            "916598      916598  4021.0       Slow   slow733             7318   \n",
            "916599      916599  4022.0       Slow   slow733             7329   \n",
            "916600      916600  4023.0       Slow   slow733             7339   \n",
            "\n",
            "        Speed_respect  secure_dist  TTC_respect  safe_dist  Emergency_Brake  \\\n",
            "0                   0            0            0          0                0   \n",
            "1                   0            0            0          0                0   \n",
            "2                   0            0            0          0                0   \n",
            "3                   0            0            0          0                0   \n",
            "4                   0            0            0          0                0   \n",
            "...               ...          ...          ...        ...              ...   \n",
            "916596              0            0            0          0                0   \n",
            "916597              0            0            0          0                0   \n",
            "916598              0            0            0          0                0   \n",
            "916599              0            0            0          0                0   \n",
            "916600              0            0            0          0                0   \n",
            "\n",
            "        Total  \n",
            "0           0  \n",
            "1           0  \n",
            "2           0  \n",
            "3           0  \n",
            "4           0  \n",
            "...       ...  \n",
            "916596      0  \n",
            "916597      0  \n",
            "916598      0  \n",
            "916599      0  \n",
            "916600      0  \n",
            "\n",
            "[916601 rows x 11 columns]\n",
            "         Unnamed: 0    Step   Label VehicleID  Distance_driven  Speed_respect  \\\n",
            "0                 0     1.0  Normal   normal0                0              0   \n",
            "1                 1     2.0  Normal   normal0                1              0   \n",
            "2                 2     2.0  Normal   normal1                0              0   \n",
            "3                 3     3.0  Normal   normal0                5              0   \n",
            "4                 4     3.0  Normal   normal1                1              0   \n",
            "...             ...     ...     ...       ...              ...            ...   \n",
            "2101751     2101751  1810.0    Slow   slow976             2112              0   \n",
            "2101752     2101752  1810.0    Slow   slow977             1220              0   \n",
            "2101753     2101753  1810.0    Slow   slow980             4328              0   \n",
            "2101754     2101754  1810.0    Slow   slow984             6289              0   \n",
            "2101755     2101755  1810.0    Slow   slow994             5766              0   \n",
            "\n",
            "         secure_dist  TTC_respect  safe_dist  Emergency_Brake  Total  \n",
            "0                  0            0          0                0      0  \n",
            "1                  0            0          0                0      0  \n",
            "2                  0            0          0                0      0  \n",
            "3                  0            0          0                0      0  \n",
            "4                  0            0          0                0      0  \n",
            "...              ...          ...        ...              ...    ...  \n",
            "2101751            0            5          0                0      5  \n",
            "2101752            3            4          0                0      7  \n",
            "2101753            3           14          0                0     17  \n",
            "2101754            0            2          0                0      2  \n",
            "2101755            0            4          0                0      4  \n",
            "\n",
            "[2101756 rows x 11 columns]\n"
          ]
        }
      ]
    },
    {
      "cell_type": "markdown",
      "metadata": {
        "id": "0-m_LqWBfMVo"
      },
      "source": [
        "\n",
        "### **Grouper selon les steps**\n",
        "\n"
      ]
    },
    {
      "cell_type": "code",
      "execution_count": null,
      "metadata": {
        "id": "1CUvhOarlLX4"
      },
      "outputs": [],
      "source": [
        "\n",
        "\n",
        "def Sum_x_step(df, features_to_keep ,features_to_sum,steps):\n",
        "\n",
        "    # Round down the \"Step\" column to the nearest multiple of 5??????\n",
        "    df[\"Step\"] = df[\"Step\"].apply(lambda n: ((n // steps) + 1) * steps)\n",
        "\n",
        "    # Group by \"VehicleID\" and \"Step\" and calculate the sum for specified features\n",
        "    features = features_to_sum\n",
        "    #grouped_df = df.groupby([\"VehicleID\", \"Step\"])[features].sum()\n",
        "\n",
        "    #grouped_df = df.groupby([\"VehicleID\", \"Step\"]).agg({\"Distance_driven\": \"first\", **{feature: \"sum\" for feature in features}})\n",
        "    grouped_df = df.groupby([\"VehicleID\", \"Step\"]).agg({**{feature: \"max\" for feature in features_to_keep},\n",
        "                                                        **{feature: \"sum\" for feature in features_to_sum}})\n",
        "\n",
        "\n",
        "\n",
        "    return grouped_df"
      ]
    },
    {
      "cell_type": "code",
      "execution_count": null,
      "metadata": {
        "colab": {
          "base_uri": "https://localhost:8080/"
        },
        "id": "sE6VZgJMz4BB",
        "outputId": "2cf78fba-f87a-4ebc-9ea5-841e865fe00a"
      },
      "outputs": [
        {
          "output_type": "stream",
          "name": "stdout",
          "text": [
            "(47629, 8)\n",
            "(20472, 8)\n",
            "                 Distance_driven      Label  Speed_respect  secure_dist  \\\n",
            "VehicleID Step                                                            \n",
            "dang0     50.0               384  Dangerous             27          680   \n",
            "          100.0              862  Dangerous             50         1811   \n",
            "          150.0              937  Dangerous             50         2300   \n",
            "          200.0             1288  Dangerous            445         2300   \n",
            "          250.0             1976  Dangerous           1151         2300   \n",
            "...                          ...        ...            ...          ...   \n",
            "slow99    550.0             1160       Slow              0            0   \n",
            "          600.0             1479       Slow              0            0   \n",
            "          650.0             1863       Slow              0            0   \n",
            "          700.0             2112       Slow              0            0   \n",
            "          750.0             2565       Slow              0            0   \n",
            "\n",
            "                 TTC_respect  safe_dist  Emergency_Brake  Total  \n",
            "VehicleID Step                                                   \n",
            "dang0     50.0             0         44                0    751  \n",
            "          100.0            0        131               36   2028  \n",
            "          150.0            0        200               94   2644  \n",
            "          200.0            0        200              100   3045  \n",
            "          250.0            0        200              100   3751  \n",
            "...                      ...        ...              ...    ...  \n",
            "slow99    550.0            0          0                0      0  \n",
            "          600.0            0          0                0      0  \n",
            "          650.0            0          0                0      0  \n",
            "          700.0            0          0                0      0  \n",
            "          750.0            0          0                0      0  \n",
            "\n",
            "[20472 rows x 8 columns]\n",
            "                  Distance_driven      Label  Speed_respect  secure_dist  \\\n",
            "VehicleID Step                                                             \n",
            "dang0     50.0                463  Dangerous            104          571   \n",
            "          100.0               916  Dangerous            200         1710   \n",
            "          150.0               936  Dangerous            200         2150   \n",
            "          200.0              1287  Dangerous            629         2150   \n",
            "          250.0              2047  Dangerous           1470         2150   \n",
            "...                           ...        ...            ...          ...   \n",
            "slow999   1300.0             1957       Slow              0          100   \n",
            "          1350.0             2543       Slow              0          100   \n",
            "          1400.0             2951       Slow              0          100   \n",
            "          1450.0             3313       Slow              0          100   \n",
            "          1500.0             3395       Slow              0           28   \n",
            "\n",
            "                  TTC_respect  safe_dist  Emergency_Brake  Total  \n",
            "VehicleID Step                                                    \n",
            "dang0     50.0             51          0                0    726  \n",
            "          100.0           100         24                0   2034  \n",
            "          150.0           100         50                0   2500  \n",
            "          200.0           100         50                0   2929  \n",
            "          250.0           100         50                0   3770  \n",
            "...                       ...        ...              ...    ...  \n",
            "slow999   1300.0          100          0                0    200  \n",
            "          1350.0          100          0                0    200  \n",
            "          1400.0          100          0                0    200  \n",
            "          1450.0          100          0                0    200  \n",
            "          1500.0           28          0                0     56  \n",
            "\n",
            "[47629 rows x 8 columns]\n"
          ]
        }
      ],
      "source": [
        "Feature_to_sum= ['Speed_respect', 'secure_dist', 'TTC_respect', 'safe_dist', 'Emergency_Brake', \"Total\" ]\n",
        "features = ['Distance_driven', 'Speed_respect', \"secure_dist\", \"TTC_respect\", \"safe_dist\", \"Emergency_Brake\", \"Total\"]\n",
        "features_to_keep = ['Distance_driven', 'Label']\n",
        "\n",
        "# Groupe df by 50 step\n",
        "df =  Sum_x_step(df,features_to_keep, Feature_to_sum,50)\n",
        "\n",
        "\n",
        "# Groupe df_800V_Warning by 50 step\n",
        "df_800V_Warning =  Sum_x_step(df_800V_Warning,features_to_keep, Feature_to_sum,50)\n",
        "\n",
        "\n",
        "print(df.shape)\n",
        "print(df_800V_Warning.shape)\n",
        "print(df_800V_Warning)\n",
        "print(df)"
      ]
    },
    {
      "cell_type": "markdown",
      "metadata": {
        "id": "ljdbvpuz3oUR"
      },
      "source": [
        "### **Preparation les donner pour ML algorithms**"
      ]
    },
    {
      "cell_type": "code",
      "execution_count": null,
      "metadata": {
        "id": "ow5GWdGyNSlJ"
      },
      "outputs": [],
      "source": [
        "X = df[features]\n",
        "Y = df['Label']\n",
        "\n",
        "\n",
        "\n",
        "x= df_800V_Warning[features]\n",
        "y = df_800V_Warning['Label']\n",
        "\n",
        "\n",
        "\n",
        "X_train= X\n",
        "X_test= x\n",
        "y_train= Y\n",
        "y_test = y\n",
        "\n",
        "\n",
        "y_train.replace(['Slow', 'Normal','Dangerous'],[-1, 0, 1], inplace=True)\n",
        "y_test.replace(['Slow', 'Normal','Dangerous'],[-1, 0, 1], inplace=True)"
      ]
    },
    {
      "cell_type": "markdown",
      "metadata": {
        "id": "Nc0emT23Ro5S"
      },
      "source": [
        "Loading the Iris dataset"
      ]
    },
    {
      "cell_type": "markdown",
      "metadata": {
        "id": "hpxqmtYYqtQd"
      },
      "source": [
        "### **GBDT classifier**\n"
      ]
    },
    {
      "cell_type": "code",
      "execution_count": null,
      "metadata": {
        "colab": {
          "base_uri": "https://localhost:8080/"
        },
        "id": "5Ns8PIFbDVnn",
        "outputId": "14eec34a-7fb8-4ca1-c97c-1883a9b48dbf"
      },
      "outputs": [
        {
          "output_type": "stream",
          "name": "stdout",
          "text": [
            "Score, Training:  0.9303995464947826\n",
            "Score, Testing:  0.8017780382962094\n",
            " The confusion matrix:  [[7532  426   13]\n",
            " [2603 3971  120]\n",
            " [ 100  796 4911]]\n"
          ]
        }
      ],
      "source": [
        "from sklearn.ensemble import GradientBoostingClassifier\n",
        "clf1 = GradientBoostingClassifier(n_estimators=10, learning_rate=1.0, max_depth=8,random_state=0)\n",
        "clf1 = clf1.fit(X_train, y_train)\n",
        "\n",
        "#print(X_train)\n",
        "#print(y_test)\n",
        "y_pred = clf1.predict(X_test)\n",
        "\n",
        "\n",
        "\n",
        "print('Score, Training: ', clf1.score(X_train,y_train)) #accuracy score on training data\n",
        "print('Score, Testing: ', clf1.score(X_test,y_test))\n",
        "\n",
        "from sklearn.metrics import confusion_matrix\n",
        "\n",
        "\n",
        "matrix = confusion_matrix(y_true=y_test, y_pred=y_pred)\n",
        "print(' The confusion matrix: ')\n",
        "print(matrix)"
      ]
    },
    {
      "cell_type": "markdown",
      "metadata": {
        "id": "gmldCb_LuwUJ"
      },
      "source": [
        "#### **KNN**"
      ]
    },
    {
      "cell_type": "code",
      "execution_count": null,
      "metadata": {
        "colab": {
          "base_uri": "https://localhost:8080/",
          "height": 75
        },
        "id": "VOQLr1i2uvtx",
        "outputId": "e5c62c75-a394-4211-cba2-7546216bf7a2"
      },
      "outputs": [
        {
          "output_type": "execute_result",
          "data": {
            "text/plain": [
              "KNeighborsClassifier(n_neighbors=3)"
            ],
            "text/html": [
              "<style>#sk-container-id-1 {color: black;background-color: white;}#sk-container-id-1 pre{padding: 0;}#sk-container-id-1 div.sk-toggleable {background-color: white;}#sk-container-id-1 label.sk-toggleable__label {cursor: pointer;display: block;width: 100%;margin-bottom: 0;padding: 0.3em;box-sizing: border-box;text-align: center;}#sk-container-id-1 label.sk-toggleable__label-arrow:before {content: \"▸\";float: left;margin-right: 0.25em;color: #696969;}#sk-container-id-1 label.sk-toggleable__label-arrow:hover:before {color: black;}#sk-container-id-1 div.sk-estimator:hover label.sk-toggleable__label-arrow:before {color: black;}#sk-container-id-1 div.sk-toggleable__content {max-height: 0;max-width: 0;overflow: hidden;text-align: left;background-color: #f0f8ff;}#sk-container-id-1 div.sk-toggleable__content pre {margin: 0.2em;color: black;border-radius: 0.25em;background-color: #f0f8ff;}#sk-container-id-1 input.sk-toggleable__control:checked~div.sk-toggleable__content {max-height: 200px;max-width: 100%;overflow: auto;}#sk-container-id-1 input.sk-toggleable__control:checked~label.sk-toggleable__label-arrow:before {content: \"▾\";}#sk-container-id-1 div.sk-estimator input.sk-toggleable__control:checked~label.sk-toggleable__label {background-color: #d4ebff;}#sk-container-id-1 div.sk-label input.sk-toggleable__control:checked~label.sk-toggleable__label {background-color: #d4ebff;}#sk-container-id-1 input.sk-hidden--visually {border: 0;clip: rect(1px 1px 1px 1px);clip: rect(1px, 1px, 1px, 1px);height: 1px;margin: -1px;overflow: hidden;padding: 0;position: absolute;width: 1px;}#sk-container-id-1 div.sk-estimator {font-family: monospace;background-color: #f0f8ff;border: 1px dotted black;border-radius: 0.25em;box-sizing: border-box;margin-bottom: 0.5em;}#sk-container-id-1 div.sk-estimator:hover {background-color: #d4ebff;}#sk-container-id-1 div.sk-parallel-item::after {content: \"\";width: 100%;border-bottom: 1px solid gray;flex-grow: 1;}#sk-container-id-1 div.sk-label:hover label.sk-toggleable__label {background-color: #d4ebff;}#sk-container-id-1 div.sk-serial::before {content: \"\";position: absolute;border-left: 1px solid gray;box-sizing: border-box;top: 0;bottom: 0;left: 50%;z-index: 0;}#sk-container-id-1 div.sk-serial {display: flex;flex-direction: column;align-items: center;background-color: white;padding-right: 0.2em;padding-left: 0.2em;position: relative;}#sk-container-id-1 div.sk-item {position: relative;z-index: 1;}#sk-container-id-1 div.sk-parallel {display: flex;align-items: stretch;justify-content: center;background-color: white;position: relative;}#sk-container-id-1 div.sk-item::before, #sk-container-id-1 div.sk-parallel-item::before {content: \"\";position: absolute;border-left: 1px solid gray;box-sizing: border-box;top: 0;bottom: 0;left: 50%;z-index: -1;}#sk-container-id-1 div.sk-parallel-item {display: flex;flex-direction: column;z-index: 1;position: relative;background-color: white;}#sk-container-id-1 div.sk-parallel-item:first-child::after {align-self: flex-end;width: 50%;}#sk-container-id-1 div.sk-parallel-item:last-child::after {align-self: flex-start;width: 50%;}#sk-container-id-1 div.sk-parallel-item:only-child::after {width: 0;}#sk-container-id-1 div.sk-dashed-wrapped {border: 1px dashed gray;margin: 0 0.4em 0.5em 0.4em;box-sizing: border-box;padding-bottom: 0.4em;background-color: white;}#sk-container-id-1 div.sk-label label {font-family: monospace;font-weight: bold;display: inline-block;line-height: 1.2em;}#sk-container-id-1 div.sk-label-container {text-align: center;}#sk-container-id-1 div.sk-container {/* jupyter's `normalize.less` sets `[hidden] { display: none; }` but bootstrap.min.css set `[hidden] { display: none !important; }` so we also need the `!important` here to be able to override the default hidden behavior on the sphinx rendered scikit-learn.org. See: https://github.com/scikit-learn/scikit-learn/issues/21755 */display: inline-block !important;position: relative;}#sk-container-id-1 div.sk-text-repr-fallback {display: none;}</style><div id=\"sk-container-id-1\" class=\"sk-top-container\"><div class=\"sk-text-repr-fallback\"><pre>KNeighborsClassifier(n_neighbors=3)</pre><b>In a Jupyter environment, please rerun this cell to show the HTML representation or trust the notebook. <br />On GitHub, the HTML representation is unable to render, please try loading this page with nbviewer.org.</b></div><div class=\"sk-container\" hidden><div class=\"sk-item\"><div class=\"sk-estimator sk-toggleable\"><input class=\"sk-toggleable__control sk-hidden--visually\" id=\"sk-estimator-id-1\" type=\"checkbox\" checked><label for=\"sk-estimator-id-1\" class=\"sk-toggleable__label sk-toggleable__label-arrow\">KNeighborsClassifier</label><div class=\"sk-toggleable__content\"><pre>KNeighborsClassifier(n_neighbors=3)</pre></div></div></div></div></div>"
            ]
          },
          "metadata": {},
          "execution_count": 13
        }
      ],
      "source": [
        "from sklearn.neighbors import KNeighborsClassifier\n",
        "from sklearn.metrics import accuracy_score\n",
        "import seaborn as sns\n",
        "\n",
        "#Creating a NN classifier with K=3 and L1 distance (pour p=1)\n",
        "knn = KNeighborsClassifier(n_neighbors=3)\n",
        "\n",
        "#Fit tingour model\n",
        "knn.fit(X_train, y_train)\n",
        "\n"
      ]
    },
    {
      "cell_type": "code",
      "execution_count": null,
      "metadata": {
        "colab": {
          "base_uri": "https://localhost:8080/"
        },
        "id": "OU2HpUoCVM44",
        "outputId": "08cdd9f8-37cc-475a-88e2-ec945619e28a"
      },
      "outputs": [
        {
          "output_type": "stream",
          "name": "stdout",
          "text": [
            "Score, Training:  0.8948329799071993\n",
            "Score, Testing:  0.7497557639703009\n",
            "[ 1  1  1 ... -1 -1  0]\n",
            " The confusion matrix:  [[6458 1464   49]\n",
            " [2487 3970  237]\n",
            " [ 139  747 4921]]\n"
          ]
        }
      ],
      "source": [
        "y_pred = knn.predict(X_test)\n",
        "\n",
        "print('Score, Training: ', knn.score(X_train,y_train)) #accuracy score on training data\n",
        "print('Score, Testing: ', knn.score(X_test,y_test))\n",
        "\n",
        "\n",
        "# accuracy = accuracy_score(y_test, y_pred)\n",
        "# print(y_test)\n",
        "\n",
        "#print(\"Accuracy:\", accuracy)\n",
        "print(y_pred)\n",
        "from sklearn.metrics import confusion_matrix\n",
        "\n",
        "matrix = confusion_matrix(y_true=y_test, y_pred=y_pred)\n",
        "print(' The confusion matrix: ')\n",
        "print(matrix)"
      ]
    },
    {
      "cell_type": "markdown",
      "metadata": {
        "id": "J7d7FF_IzCpe"
      },
      "source": [
        "### **MLP**"
      ]
    },
    {
      "cell_type": "code",
      "execution_count": null,
      "metadata": {
        "id": "4itMLaUslb9R",
        "colab": {
          "base_uri": "https://localhost:8080/",
          "height": 1000
        },
        "outputId": "146d80b1-d252-4f21-bcc2-fc130ad3755c"
      },
      "outputs": [
        {
          "output_type": "stream",
          "name": "stdout",
          "text": [
            "Iteration 1, loss = 4.43444841\n",
            "Iteration 2, loss = 1.69449283\n",
            "Iteration 3, loss = 1.09289223\n",
            "Iteration 4, loss = 1.07142076\n",
            "Iteration 5, loss = 1.05435546\n",
            "Iteration 6, loss = 1.00161410\n",
            "Iteration 7, loss = 1.00008233\n",
            "Iteration 8, loss = 0.97573704\n",
            "Iteration 9, loss = 0.89652826\n",
            "Iteration 10, loss = 0.88888432\n",
            "Iteration 11, loss = 0.90082575\n",
            "Iteration 12, loss = 0.89112193\n",
            "Iteration 13, loss = 0.85965020\n",
            "Iteration 14, loss = 0.88261567\n",
            "Iteration 15, loss = 0.83089086\n",
            "Iteration 16, loss = 0.86005435\n",
            "Iteration 17, loss = 0.84432753\n",
            "Iteration 18, loss = 0.81814557\n",
            "Iteration 19, loss = 0.81437256\n",
            "Iteration 20, loss = 0.80661715\n",
            "Iteration 21, loss = 0.78224927\n",
            "Iteration 22, loss = 0.72963442\n",
            "Iteration 23, loss = 0.77811924\n",
            "Iteration 24, loss = 0.73672429\n",
            "Iteration 25, loss = 0.75931563\n",
            "Iteration 26, loss = 0.82944832\n",
            "Iteration 27, loss = 0.74163535\n",
            "Iteration 28, loss = 0.72861231\n",
            "Iteration 29, loss = 0.70991211\n",
            "Iteration 30, loss = 0.72693187\n",
            "Iteration 31, loss = 0.69723803\n",
            "Iteration 32, loss = 0.71782630\n",
            "Iteration 33, loss = 0.70174739\n",
            "Iteration 34, loss = 0.76245934\n",
            "Iteration 35, loss = 0.70353059\n",
            "Iteration 36, loss = 0.69874206\n",
            "Iteration 37, loss = 0.70088714\n",
            "Iteration 38, loss = 0.70191540\n",
            "Iteration 39, loss = 0.66072283\n",
            "Iteration 40, loss = 0.67987954\n",
            "Iteration 41, loss = 0.72398023\n",
            "Iteration 42, loss = 0.66486438\n",
            "Iteration 43, loss = 0.68011641\n",
            "Iteration 44, loss = 0.67685446\n",
            "Iteration 45, loss = 0.68101422\n",
            "Iteration 46, loss = 0.69020830\n",
            "Iteration 47, loss = 0.65746058\n",
            "Iteration 48, loss = 0.64176818\n",
            "Iteration 49, loss = 0.67337818\n",
            "Iteration 50, loss = 0.65374536\n",
            "Iteration 51, loss = 0.63341139\n",
            "Iteration 52, loss = 0.63703184\n",
            "Iteration 53, loss = 0.64972980\n",
            "Iteration 54, loss = 0.70112154\n",
            "Iteration 55, loss = 0.65763085\n",
            "Iteration 56, loss = 0.65139900\n",
            "Iteration 57, loss = 0.64906550\n",
            "Iteration 58, loss = 0.65992280\n",
            "Iteration 59, loss = 0.61587118\n",
            "Iteration 60, loss = 0.62128832\n",
            "Iteration 61, loss = 0.60310041\n",
            "Iteration 62, loss = 0.59425703\n",
            "Iteration 63, loss = 0.59160009\n",
            "Iteration 64, loss = 0.60141457\n",
            "Iteration 65, loss = 0.56736569\n",
            "Iteration 66, loss = 0.57465701\n",
            "Iteration 67, loss = 0.56310740\n",
            "Iteration 68, loss = 0.58350449\n",
            "Iteration 69, loss = 0.59667326\n",
            "Iteration 70, loss = 0.61206125\n",
            "Iteration 71, loss = 0.56341122\n",
            "Iteration 72, loss = 0.54876440\n",
            "Iteration 73, loss = 0.53533802\n",
            "Iteration 74, loss = 0.54493929\n",
            "Iteration 75, loss = 0.54008355\n",
            "Iteration 76, loss = 0.55081581\n",
            "Iteration 77, loss = 0.62811004\n",
            "Iteration 78, loss = 0.54683593\n",
            "Iteration 79, loss = 0.55878669\n",
            "Iteration 80, loss = 0.57011806\n",
            "Iteration 81, loss = 0.54696423\n",
            "Iteration 82, loss = 0.56238340\n",
            "Iteration 83, loss = 0.51763619\n",
            "Iteration 84, loss = 0.51057650\n",
            "Iteration 85, loss = 0.52702316\n",
            "Iteration 86, loss = 0.52239895\n",
            "Iteration 87, loss = 0.52939490\n",
            "Iteration 88, loss = 0.52538590\n",
            "Iteration 89, loss = 0.51503232\n",
            "Iteration 90, loss = 0.51338533\n",
            "Iteration 91, loss = 0.50852767\n",
            "Iteration 92, loss = 0.52497044\n",
            "Iteration 93, loss = 0.51276141\n",
            "Iteration 94, loss = 0.49477165\n",
            "Iteration 95, loss = 0.51198719\n",
            "Iteration 96, loss = 0.49776305\n",
            "Iteration 97, loss = 0.51075948\n",
            "Iteration 98, loss = 0.50499428\n",
            "Iteration 99, loss = 0.50063739\n",
            "Iteration 100, loss = 0.51845503\n",
            "Iteration 101, loss = 0.50356397\n",
            "Iteration 102, loss = 0.48109536\n",
            "Iteration 103, loss = 0.51787888\n",
            "Iteration 104, loss = 0.47609233\n",
            "Iteration 105, loss = 0.49044655\n",
            "Iteration 106, loss = 0.50389272\n",
            "Iteration 107, loss = 0.48256149\n",
            "Iteration 108, loss = 0.47986849\n",
            "Iteration 109, loss = 0.48300100\n",
            "Iteration 110, loss = 0.52647520\n",
            "Iteration 111, loss = 0.47668352\n",
            "Iteration 112, loss = 0.47290679\n",
            "Iteration 113, loss = 0.51053944\n",
            "Iteration 114, loss = 0.48702847\n",
            "Iteration 115, loss = 0.47730937\n",
            "Iteration 116, loss = 0.47788733\n",
            "Iteration 117, loss = 0.46981555\n",
            "Iteration 118, loss = 0.46951064\n",
            "Iteration 119, loss = 0.48162300\n",
            "Iteration 120, loss = 0.45691368\n",
            "Iteration 121, loss = 0.47563957\n",
            "Iteration 122, loss = 0.49858267\n",
            "Iteration 123, loss = 0.46140949\n",
            "Iteration 124, loss = 0.45592462\n",
            "Iteration 125, loss = 0.46629517\n",
            "Iteration 126, loss = 0.47796648\n",
            "Iteration 127, loss = 0.45994529\n",
            "Iteration 128, loss = 0.46603263\n",
            "Iteration 129, loss = 0.46940373\n",
            "Iteration 130, loss = 0.46014590\n",
            "Iteration 131, loss = 0.46963810\n",
            "Iteration 132, loss = 0.45152799\n",
            "Iteration 133, loss = 0.45569617\n",
            "Iteration 134, loss = 0.46014479\n",
            "Iteration 135, loss = 0.44824494\n",
            "Iteration 136, loss = 0.45815755\n",
            "Iteration 137, loss = 0.46444556\n",
            "Iteration 138, loss = 0.46281342\n",
            "Iteration 139, loss = 0.44400075\n",
            "Iteration 140, loss = 0.45535035\n",
            "Iteration 141, loss = 0.44476027\n",
            "Iteration 142, loss = 0.44239028\n",
            "Iteration 143, loss = 0.45590650\n",
            "Iteration 144, loss = 0.44920487\n",
            "Iteration 145, loss = 0.45648008\n",
            "Iteration 146, loss = 0.46284583\n",
            "Iteration 147, loss = 0.44545917\n",
            "Iteration 148, loss = 0.44069042\n",
            "Iteration 149, loss = 0.43807300\n",
            "Iteration 150, loss = 0.45819588\n",
            "Iteration 151, loss = 0.44230406\n",
            "Iteration 152, loss = 0.43863178\n",
            "Iteration 153, loss = 0.43802615\n",
            "Iteration 154, loss = 0.43730556\n",
            "Iteration 155, loss = 0.44110545\n",
            "Iteration 156, loss = 0.43822936\n",
            "Iteration 157, loss = 0.46003059\n",
            "Iteration 158, loss = 0.43444516\n",
            "Iteration 159, loss = 0.44290267\n",
            "Iteration 160, loss = 0.47949535\n",
            "Iteration 161, loss = 0.44195790\n",
            "Iteration 162, loss = 0.43135852\n",
            "Iteration 163, loss = 0.43502527\n",
            "Iteration 164, loss = 0.43492240\n",
            "Iteration 165, loss = 0.43605368\n",
            "Iteration 166, loss = 0.43821587\n",
            "Iteration 167, loss = 0.44320442\n",
            "Iteration 168, loss = 0.43800343\n",
            "Iteration 169, loss = 0.43322412\n",
            "Iteration 170, loss = 0.43297973\n",
            "Iteration 171, loss = 0.43359758\n",
            "Iteration 172, loss = 0.43678298\n",
            "Iteration 173, loss = 0.42965793\n",
            "Iteration 174, loss = 0.43648057\n",
            "Iteration 175, loss = 0.42620958\n",
            "Iteration 176, loss = 0.43233120\n",
            "Iteration 177, loss = 0.43035215\n",
            "Iteration 178, loss = 0.44442955\n",
            "Iteration 179, loss = 0.42758163\n",
            "Iteration 180, loss = 0.42965071\n",
            "Iteration 181, loss = 0.43135296\n",
            "Iteration 182, loss = 0.43566150\n",
            "Iteration 183, loss = 0.43746983\n",
            "Iteration 184, loss = 0.43651403\n",
            "Iteration 185, loss = 0.42735312\n",
            "Iteration 186, loss = 0.42914924\n",
            "Training loss did not improve more than tol=0.000000 for 10 consecutive epochs. Stopping.\n"
          ]
        },
        {
          "output_type": "execute_result",
          "data": {
            "text/plain": [
              "MLPClassifier(alpha=0.01, hidden_layer_sizes=(4, 8, 4), max_iter=300,\n",
              "              random_state=21, tol=1e-07, verbose=10)"
            ],
            "text/html": [
              "<style>#sk-container-id-2 {color: black;background-color: white;}#sk-container-id-2 pre{padding: 0;}#sk-container-id-2 div.sk-toggleable {background-color: white;}#sk-container-id-2 label.sk-toggleable__label {cursor: pointer;display: block;width: 100%;margin-bottom: 0;padding: 0.3em;box-sizing: border-box;text-align: center;}#sk-container-id-2 label.sk-toggleable__label-arrow:before {content: \"▸\";float: left;margin-right: 0.25em;color: #696969;}#sk-container-id-2 label.sk-toggleable__label-arrow:hover:before {color: black;}#sk-container-id-2 div.sk-estimator:hover label.sk-toggleable__label-arrow:before {color: black;}#sk-container-id-2 div.sk-toggleable__content {max-height: 0;max-width: 0;overflow: hidden;text-align: left;background-color: #f0f8ff;}#sk-container-id-2 div.sk-toggleable__content pre {margin: 0.2em;color: black;border-radius: 0.25em;background-color: #f0f8ff;}#sk-container-id-2 input.sk-toggleable__control:checked~div.sk-toggleable__content {max-height: 200px;max-width: 100%;overflow: auto;}#sk-container-id-2 input.sk-toggleable__control:checked~label.sk-toggleable__label-arrow:before {content: \"▾\";}#sk-container-id-2 div.sk-estimator input.sk-toggleable__control:checked~label.sk-toggleable__label {background-color: #d4ebff;}#sk-container-id-2 div.sk-label input.sk-toggleable__control:checked~label.sk-toggleable__label {background-color: #d4ebff;}#sk-container-id-2 input.sk-hidden--visually {border: 0;clip: rect(1px 1px 1px 1px);clip: rect(1px, 1px, 1px, 1px);height: 1px;margin: -1px;overflow: hidden;padding: 0;position: absolute;width: 1px;}#sk-container-id-2 div.sk-estimator {font-family: monospace;background-color: #f0f8ff;border: 1px dotted black;border-radius: 0.25em;box-sizing: border-box;margin-bottom: 0.5em;}#sk-container-id-2 div.sk-estimator:hover {background-color: #d4ebff;}#sk-container-id-2 div.sk-parallel-item::after {content: \"\";width: 100%;border-bottom: 1px solid gray;flex-grow: 1;}#sk-container-id-2 div.sk-label:hover label.sk-toggleable__label {background-color: #d4ebff;}#sk-container-id-2 div.sk-serial::before {content: \"\";position: absolute;border-left: 1px solid gray;box-sizing: border-box;top: 0;bottom: 0;left: 50%;z-index: 0;}#sk-container-id-2 div.sk-serial {display: flex;flex-direction: column;align-items: center;background-color: white;padding-right: 0.2em;padding-left: 0.2em;position: relative;}#sk-container-id-2 div.sk-item {position: relative;z-index: 1;}#sk-container-id-2 div.sk-parallel {display: flex;align-items: stretch;justify-content: center;background-color: white;position: relative;}#sk-container-id-2 div.sk-item::before, #sk-container-id-2 div.sk-parallel-item::before {content: \"\";position: absolute;border-left: 1px solid gray;box-sizing: border-box;top: 0;bottom: 0;left: 50%;z-index: -1;}#sk-container-id-2 div.sk-parallel-item {display: flex;flex-direction: column;z-index: 1;position: relative;background-color: white;}#sk-container-id-2 div.sk-parallel-item:first-child::after {align-self: flex-end;width: 50%;}#sk-container-id-2 div.sk-parallel-item:last-child::after {align-self: flex-start;width: 50%;}#sk-container-id-2 div.sk-parallel-item:only-child::after {width: 0;}#sk-container-id-2 div.sk-dashed-wrapped {border: 1px dashed gray;margin: 0 0.4em 0.5em 0.4em;box-sizing: border-box;padding-bottom: 0.4em;background-color: white;}#sk-container-id-2 div.sk-label label {font-family: monospace;font-weight: bold;display: inline-block;line-height: 1.2em;}#sk-container-id-2 div.sk-label-container {text-align: center;}#sk-container-id-2 div.sk-container {/* jupyter's `normalize.less` sets `[hidden] { display: none; }` but bootstrap.min.css set `[hidden] { display: none !important; }` so we also need the `!important` here to be able to override the default hidden behavior on the sphinx rendered scikit-learn.org. See: https://github.com/scikit-learn/scikit-learn/issues/21755 */display: inline-block !important;position: relative;}#sk-container-id-2 div.sk-text-repr-fallback {display: none;}</style><div id=\"sk-container-id-2\" class=\"sk-top-container\"><div class=\"sk-text-repr-fallback\"><pre>MLPClassifier(alpha=0.01, hidden_layer_sizes=(4, 8, 4), max_iter=300,\n",
              "              random_state=21, tol=1e-07, verbose=10)</pre><b>In a Jupyter environment, please rerun this cell to show the HTML representation or trust the notebook. <br />On GitHub, the HTML representation is unable to render, please try loading this page with nbviewer.org.</b></div><div class=\"sk-container\" hidden><div class=\"sk-item\"><div class=\"sk-estimator sk-toggleable\"><input class=\"sk-toggleable__control sk-hidden--visually\" id=\"sk-estimator-id-2\" type=\"checkbox\" checked><label for=\"sk-estimator-id-2\" class=\"sk-toggleable__label sk-toggleable__label-arrow\">MLPClassifier</label><div class=\"sk-toggleable__content\"><pre>MLPClassifier(alpha=0.01, hidden_layer_sizes=(4, 8, 4), max_iter=300,\n",
              "              random_state=21, tol=1e-07, verbose=10)</pre></div></div></div></div></div>"
            ]
          },
          "metadata": {},
          "execution_count": 15
        }
      ],
      "source": [
        "from sklearn.neural_network import MLPClassifier\n",
        "#https://analyticsindiamag.com/a-beginners-guide-to-scikit-learns-mlpclassifier/#:~:text=MLPClassifier%20stands%20for%20Multi%2Dlayer,perform%20the%20task%20of%20classification.\n",
        "\n",
        "\n",
        "X_val = X_test\n",
        "Y_val = y_test\n",
        "#print(Y_val)\n",
        "\n",
        "\n",
        "\n",
        "#Initializing the MLPClassifier\n",
        "#classifierMLP = MLPClassifier(hidden_layer_sizes=(4,8,4), max_iter=3,activation = 'relu',solver='adam',random_state=1)\n",
        "classifierMLP = MLPClassifier(hidden_layer_sizes=(4,8,4), max_iter=300, alpha=0.01, learning_rate_init=0.001, solver='adam', verbose=10,  random_state=21,tol=0.0000001)\n",
        "\n",
        "#Fitting the training data to the network\n",
        "classifierMLP.fit(X_train, y_train)\n"
      ]
    },
    {
      "cell_type": "code",
      "execution_count": null,
      "metadata": {
        "id": "5w2gP9_Yqs1O",
        "colab": {
          "base_uri": "https://localhost:8080/"
        },
        "outputId": "e33aee32-6adb-4b5e-afe4-7ec1d42dc1ee"
      },
      "outputs": [
        {
          "output_type": "stream",
          "name": "stdout",
          "text": [
            "0.7905431809300508\n",
            "Score, Training:  0.8466060593335992\n",
            "Score, Testing:  0.7905431809300508\n",
            " The confusion matrix:  [[7683  288    0]\n",
            " [2966 3708   20]\n",
            " [ 146  868 4793]]\n"
          ]
        }
      ],
      "source": [
        "from sklearn.svm import SVC\n",
        "from sklearn.metrics import accuracy_score\n",
        "#Predicting y for X_val\n",
        "X=0\n",
        "y_pred = classifierMLP.predict(X_test)\n",
        "# print(y_pred)\n",
        "# print(y_pred.shape)\n",
        "# print(y_test)\n",
        "\n",
        "\n",
        "#print the value\n",
        "# num_labels_to_print =1759\n",
        "# for label in y_test:\n",
        "#    i = 0\n",
        "#    if label != y_pred [i]:\n",
        "#         X+=1\n",
        "#         i+=1\n",
        "# print(X)\n",
        "\n",
        "\n",
        "#Printing the accuracy\n",
        "print(accuracy_score(y_test, y_pred))\n",
        "\n",
        "#print(classifierMLP.score(X_val, Y_val))\n",
        "print('Score, Training: ', classifierMLP.score(X_train,y_train)) #accuracy score on training data\n",
        "print('Score, Testing: ', classifierMLP.score(X_val, Y_val))\n",
        "\n",
        "\n",
        "matrix = confusion_matrix(y_true=y_test, y_pred=y_pred)\n",
        "print(' The confusion matrix: ')\n",
        "print(matrix)"
      ]
    },
    {
      "cell_type": "markdown",
      "metadata": {
        "id": "giUAZo4kUHGU"
      },
      "source": [
        "### **SVM classifier**\n"
      ]
    },
    {
      "cell_type": "code",
      "execution_count": null,
      "metadata": {
        "id": "gCgMuYv4vLkP",
        "colab": {
          "base_uri": "https://localhost:8080/",
          "height": 126
        },
        "outputId": "42c03d25-5a25-48be-a9b4-88ca6f50b75d"
      },
      "outputs": [
        {
          "output_type": "execute_result",
          "data": {
            "text/plain": [
              "Pipeline(steps=[('standardscaler', StandardScaler()),\n",
              "                ('sgdclassifier', SGDClassifier())])"
            ],
            "text/html": [
              "<style>#sk-container-id-3 {color: black;background-color: white;}#sk-container-id-3 pre{padding: 0;}#sk-container-id-3 div.sk-toggleable {background-color: white;}#sk-container-id-3 label.sk-toggleable__label {cursor: pointer;display: block;width: 100%;margin-bottom: 0;padding: 0.3em;box-sizing: border-box;text-align: center;}#sk-container-id-3 label.sk-toggleable__label-arrow:before {content: \"▸\";float: left;margin-right: 0.25em;color: #696969;}#sk-container-id-3 label.sk-toggleable__label-arrow:hover:before {color: black;}#sk-container-id-3 div.sk-estimator:hover label.sk-toggleable__label-arrow:before {color: black;}#sk-container-id-3 div.sk-toggleable__content {max-height: 0;max-width: 0;overflow: hidden;text-align: left;background-color: #f0f8ff;}#sk-container-id-3 div.sk-toggleable__content pre {margin: 0.2em;color: black;border-radius: 0.25em;background-color: #f0f8ff;}#sk-container-id-3 input.sk-toggleable__control:checked~div.sk-toggleable__content {max-height: 200px;max-width: 100%;overflow: auto;}#sk-container-id-3 input.sk-toggleable__control:checked~label.sk-toggleable__label-arrow:before {content: \"▾\";}#sk-container-id-3 div.sk-estimator input.sk-toggleable__control:checked~label.sk-toggleable__label {background-color: #d4ebff;}#sk-container-id-3 div.sk-label input.sk-toggleable__control:checked~label.sk-toggleable__label {background-color: #d4ebff;}#sk-container-id-3 input.sk-hidden--visually {border: 0;clip: rect(1px 1px 1px 1px);clip: rect(1px, 1px, 1px, 1px);height: 1px;margin: -1px;overflow: hidden;padding: 0;position: absolute;width: 1px;}#sk-container-id-3 div.sk-estimator {font-family: monospace;background-color: #f0f8ff;border: 1px dotted black;border-radius: 0.25em;box-sizing: border-box;margin-bottom: 0.5em;}#sk-container-id-3 div.sk-estimator:hover {background-color: #d4ebff;}#sk-container-id-3 div.sk-parallel-item::after {content: \"\";width: 100%;border-bottom: 1px solid gray;flex-grow: 1;}#sk-container-id-3 div.sk-label:hover label.sk-toggleable__label {background-color: #d4ebff;}#sk-container-id-3 div.sk-serial::before {content: \"\";position: absolute;border-left: 1px solid gray;box-sizing: border-box;top: 0;bottom: 0;left: 50%;z-index: 0;}#sk-container-id-3 div.sk-serial {display: flex;flex-direction: column;align-items: center;background-color: white;padding-right: 0.2em;padding-left: 0.2em;position: relative;}#sk-container-id-3 div.sk-item {position: relative;z-index: 1;}#sk-container-id-3 div.sk-parallel {display: flex;align-items: stretch;justify-content: center;background-color: white;position: relative;}#sk-container-id-3 div.sk-item::before, #sk-container-id-3 div.sk-parallel-item::before {content: \"\";position: absolute;border-left: 1px solid gray;box-sizing: border-box;top: 0;bottom: 0;left: 50%;z-index: -1;}#sk-container-id-3 div.sk-parallel-item {display: flex;flex-direction: column;z-index: 1;position: relative;background-color: white;}#sk-container-id-3 div.sk-parallel-item:first-child::after {align-self: flex-end;width: 50%;}#sk-container-id-3 div.sk-parallel-item:last-child::after {align-self: flex-start;width: 50%;}#sk-container-id-3 div.sk-parallel-item:only-child::after {width: 0;}#sk-container-id-3 div.sk-dashed-wrapped {border: 1px dashed gray;margin: 0 0.4em 0.5em 0.4em;box-sizing: border-box;padding-bottom: 0.4em;background-color: white;}#sk-container-id-3 div.sk-label label {font-family: monospace;font-weight: bold;display: inline-block;line-height: 1.2em;}#sk-container-id-3 div.sk-label-container {text-align: center;}#sk-container-id-3 div.sk-container {/* jupyter's `normalize.less` sets `[hidden] { display: none; }` but bootstrap.min.css set `[hidden] { display: none !important; }` so we also need the `!important` here to be able to override the default hidden behavior on the sphinx rendered scikit-learn.org. See: https://github.com/scikit-learn/scikit-learn/issues/21755 */display: inline-block !important;position: relative;}#sk-container-id-3 div.sk-text-repr-fallback {display: none;}</style><div id=\"sk-container-id-3\" class=\"sk-top-container\"><div class=\"sk-text-repr-fallback\"><pre>Pipeline(steps=[(&#x27;standardscaler&#x27;, StandardScaler()),\n",
              "                (&#x27;sgdclassifier&#x27;, SGDClassifier())])</pre><b>In a Jupyter environment, please rerun this cell to show the HTML representation or trust the notebook. <br />On GitHub, the HTML representation is unable to render, please try loading this page with nbviewer.org.</b></div><div class=\"sk-container\" hidden><div class=\"sk-item sk-dashed-wrapped\"><div class=\"sk-label-container\"><div class=\"sk-label sk-toggleable\"><input class=\"sk-toggleable__control sk-hidden--visually\" id=\"sk-estimator-id-3\" type=\"checkbox\" ><label for=\"sk-estimator-id-3\" class=\"sk-toggleable__label sk-toggleable__label-arrow\">Pipeline</label><div class=\"sk-toggleable__content\"><pre>Pipeline(steps=[(&#x27;standardscaler&#x27;, StandardScaler()),\n",
              "                (&#x27;sgdclassifier&#x27;, SGDClassifier())])</pre></div></div></div><div class=\"sk-serial\"><div class=\"sk-item\"><div class=\"sk-estimator sk-toggleable\"><input class=\"sk-toggleable__control sk-hidden--visually\" id=\"sk-estimator-id-4\" type=\"checkbox\" ><label for=\"sk-estimator-id-4\" class=\"sk-toggleable__label sk-toggleable__label-arrow\">StandardScaler</label><div class=\"sk-toggleable__content\"><pre>StandardScaler()</pre></div></div></div><div class=\"sk-item\"><div class=\"sk-estimator sk-toggleable\"><input class=\"sk-toggleable__control sk-hidden--visually\" id=\"sk-estimator-id-5\" type=\"checkbox\" ><label for=\"sk-estimator-id-5\" class=\"sk-toggleable__label sk-toggleable__label-arrow\">SGDClassifier</label><div class=\"sk-toggleable__content\"><pre>SGDClassifier()</pre></div></div></div></div></div></div></div>"
            ]
          },
          "metadata": {},
          "execution_count": 17
        }
      ],
      "source": [
        "#import SVC classifier\n",
        "import numpy as np\n",
        "from sklearn.linear_model import SGDClassifier\n",
        "from sklearn.preprocessing import StandardScaler\n",
        "from sklearn.pipeline import make_pipeline\n",
        "from sklearn.svm import SVC\n",
        "from sklearn.metrics import accuracy_score\n",
        "\n",
        "#Creating a SVM classifier with RBF Kernerl\n",
        "svc_clf = make_pipeline(StandardScaler(), SGDClassifier(max_iter=1000, tol=1e-3))\n",
        "# Fitting our model\n",
        "svc_clf.fit(X_train, y_train)"
      ]
    },
    {
      "cell_type": "code",
      "execution_count": null,
      "metadata": {
        "id": "ctseiFm0vV-M",
        "colab": {
          "base_uri": "https://localhost:8080/"
        },
        "outputId": "014c1779-9291-4679-96d7-33dbc419541e"
      },
      "outputs": [
        {
          "output_type": "stream",
          "name": "stdout",
          "text": [
            "Score, Training:  0.7810157677045497\n",
            "Score, Testing:  0.7208382180539273\n",
            " The confusion matrix:  [[7683  288    0]\n",
            " [2966 3708   20]\n",
            " [ 146  868 4793]]\n"
          ]
        }
      ],
      "source": [
        "# Making predictions and calculate the Acc\n",
        "predictions = svc_clf.predict(X_test)\n",
        "# print(predictions)\n",
        "\n",
        "\n",
        "print('Score, Training: ', svc_clf.score(X_train,y_train)) #accuracy score on training data\n",
        "print('Score, Testing: ', svc_clf.score(X_test, y_test))\n",
        "\n",
        "\n",
        "from sklearn.metrics import confusion_matrix\n",
        "\n",
        "matrix = confusion_matrix(y_true=y_test, y_pred=y_pred)\n",
        "print(' The confusion matrix: ')\n",
        "print(matrix)"
      ]
    }
  ],
  "metadata": {
    "colab": {
      "provenance": []
    },
    "kernelspec": {
      "display_name": "Python 3",
      "name": "python3"
    },
    "language_info": {
      "name": "python"
    }
  },
  "nbformat": 4,
  "nbformat_minor": 0
}